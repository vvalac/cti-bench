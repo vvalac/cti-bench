{
 "cells": [
  {
   "cell_type": "markdown",
   "id": "62ace62a-0973-4177-87e7-dfb40c5ffa3c",
   "metadata": {},
   "source": [
    "### Evaluation Notebook for LLM Responses\n",
    "\n",
    "This notebook contains scripts to evaluate the properly formatted responses from large language models (LLMs) for four tasks:\n",
    "\n",
    "- **CTI-MCQ Task**: The response should be a letter corresponding to the correct answer (A, B, C, D or X which indicates error, such as refusing to answer).\n",
    "- **CTI-RCM and CTI-RCM-2021 Tasks**: The response should be a properly formatted CWE ID.\n",
    "- **CTI-VSP Task**: The response should be a properly formatted CVSS v3 string.\n",
    "- **CTI-TAA Task**: The response should be the name of the threat actor.\n",
    "\n",
    "Check the files in the `responses` folder for examples. This notebook will evaluate the responses from the ChatGPT-4 model and calculate the evaluation metrics.\n",
    "\n",
    "Libraries required\n",
    "- pandas\n",
    "- cvss (https://pypi.org/project/cvss/)"
   ]
  },
  {
   "cell_type": "code",
   "execution_count": null,
   "id": "ba4e2556-69dd-4f68-b2df-57883864924f",
   "metadata": {},
   "outputs": [],
   "source": [
    "import pandas as pd\n",
    "from cvss import CVSS3\n",
    "import pickle"
   ]
  },
  {
   "cell_type": "code",
   "execution_count": null,
   "id": "45c2fd71-6d9c-4318-a40b-30042924474f",
   "metadata": {},
   "outputs": [],
   "source": [
    "model_name = 'gpt4o-mini'  # corresponds to the column name in the respone sheet"
   ]
  },
  {
   "cell_type": "markdown",
   "id": "ffd9dc40-7137-408e-a409-856f6c04fcb1",
   "metadata": {},
   "source": [
    "### CTI-MCQ evaluation"
   ]
  },
  {
   "cell_type": "code",
   "execution_count": null,
   "id": "b633a5be-9ec3-4459-8b9a-6553e570738b",
   "metadata": {},
   "outputs": [],
   "source": [
    "def compute_mcq_accuracy(fname, col):\n",
    "    df = pd.read_csv(fname, sep='\\t')\n",
    "    correct = 0\n",
    "    total = 0\n",
    "    for idx, row in df.iterrows():\n",
    "        pred = row[col].upper()\n",
    "        gt = row['GT'].upper()\n",
    "        if pred in ['A', 'B', 'C', 'D', 'X']:\n",
    "            total += 1\n",
    "        else:\n",
    "            print('Invalid response at row {}'.format(idx+1))\n",
    "        if pred == gt:\n",
    "            correct += 1\n",
    "    return correct/total*100"
   ]
  },
  {
   "cell_type": "code",
   "execution_count": null,
   "id": "edcd46c4-422a-45f2-8703-05603a73cbbf",
   "metadata": {},
   "outputs": [],
   "source": [
    "print('Accuracy:', compute_mcq_accuracy('responses/cti-mcq-responses.tsv', model_name))"
   ]
  },
  {
   "cell_type": "markdown",
   "id": "8b3578bb-a5ee-4f7d-a3c6-300262d23d10",
   "metadata": {},
   "source": [
    "### CTI-RCM evaluation"
   ]
  },
  {
   "cell_type": "code",
   "execution_count": null,
   "id": "32c0ab51-21ae-47c2-b121-603e5205c089",
   "metadata": {},
   "outputs": [],
   "source": [
    "def compute_rcm_accuracy(fname, col):\n",
    "    df = pd.read_csv(fname, sep='\\t')\n",
    "    correct = 0\n",
    "    total = 0\n",
    "    for idx, row in df.iterrows():\n",
    "        pred = row[col].upper()\n",
    "        gt = row['GT'].upper()\n",
    "        if pred.startswith('CWE-'):\n",
    "            total += 1\n",
    "        else:\n",
    "            print('Invalid response at row {}'.format(idx+1))\n",
    "        if pred == gt:\n",
    "            correct += 1\n",
    "    return correct/total*100"
   ]
  },
  {
   "cell_type": "code",
   "execution_count": null,
   "id": "1c2dbd40-600a-4ad7-a7ac-58efe21ee07b",
   "metadata": {},
   "outputs": [],
   "source": [
    "print('Accuracy:', compute_rcm_accuracy('responses/cti-rcm-responses.tsv', model_name))"
   ]
  },
  {
   "cell_type": "code",
   "execution_count": null,
   "id": "1de485e7-122e-4fe7-a4b5-b3f3a102bbbc",
   "metadata": {},
   "outputs": [],
   "source": [
    "print('Accuracy:', compute_rcm_accuracy('responses/cti-rcm-2021-responses.tsv', model_name))"
   ]
  },
  {
   "cell_type": "markdown",
   "id": "0a9ec343-b24e-4292-9497-74856457edbd",
   "metadata": {},
   "source": [
    "### CTI-VSP evaluation"
   ]
  },
  {
   "cell_type": "code",
   "execution_count": null,
   "id": "124adb9d-16a1-4166-af21-36d2591f0a23",
   "metadata": {},
   "outputs": [],
   "source": [
    "def get_cvss_score(cvss_vector):\n",
    "    c = CVSS3(cvss_vector)\n",
    "    cvss_score = c.scores()[0]\n",
    "    return cvss_score"
   ]
  },
  {
   "cell_type": "code",
   "execution_count": null,
   "id": "427e46be-15c0-4bed-810a-f1fe9205a21f",
   "metadata": {},
   "outputs": [],
   "source": [
    "def compute_vsp_mad(fname, col):\n",
    "    cvss_prefix = 'CVSS:3.0/'   # should be empty string if the model responds with the prefix\n",
    "    df = pd.read_csv(fname, sep='\\t')\n",
    "    error = 0\n",
    "    total = 0\n",
    "    for idx, row in df.iterrows():\n",
    "        pred = row[col].upper()\n",
    "        gt = row['GT'].upper()\n",
    "        try:\n",
    "            pred_vector = cvss_prefix + pred\n",
    "            pred_score = get_cvss_score(pred_vector)\n",
    "            gt_score = get_cvss_score(gt)\n",
    "            error += abs(pred_score-gt_score)\n",
    "        except Exception as e:\n",
    "            print('Invalid response at row {}'.format(idx+1))\n",
    "            print(e)\n",
    "            continue\n",
    "        total += 1\n",
    "            \n",
    "    return error/total"
   ]
  },
  {
   "cell_type": "code",
   "execution_count": null,
   "id": "90e52b99-4c9e-4caf-b220-f3ce8647d6c5",
   "metadata": {},
   "outputs": [],
   "source": [
    "print('Mean Absolute Deviation:', compute_vsp_mad('responses/cti-vsp-responses.tsv', model_name))"
   ]
  },
  {
   "cell_type": "markdown",
   "id": "5fef2f64-5b84-4f7b-b903-0532bc3df3a6",
   "metadata": {},
   "source": [
    "### CTI-TAA evaluation"
   ]
  },
  {
   "cell_type": "code",
   "execution_count": null,
   "id": "6277c5b8-6aca-4617-88c9-f56d5424035c",
   "metadata": {},
   "outputs": [],
   "source": [
    "with open('alias_dict.pickle', 'rb') as handle:\n",
    "    alias_dict = pickle.load(handle)"
   ]
  },
  {
   "cell_type": "code",
   "execution_count": null,
   "id": "568d2227-4d17-49b8-8ad3-53962fd6de80",
   "metadata": {},
   "outputs": [],
   "source": [
    "with open('related_dict.pickle', 'rb') as handle:\n",
    "    related_dict = pickle.load(handle)"
   ]
  },
  {
   "cell_type": "code",
   "execution_count": null,
   "id": "6c9cb7cf-4763-4ce3-bdc3-4ff49192096b",
   "metadata": {},
   "outputs": [],
   "source": [
    "def threat_actor_connection(actor1, actor2, alias_dict, related_dict):\n",
    "    \"\"\"\n",
    "    Determines the connection type between two threat actors based on alias and related group information.\n",
    "\n",
    "    Args:\n",
    "        actor1: The first threat actor.\n",
    "        actor2: The second threat actor.\n",
    "        alias_dict: A dictionary where keys are threat actors and values are lists of their aliases.\n",
    "        related_dict: A dictionary where keys are threat actors and values are lists of related threat actors.\n",
    "\n",
    "    Returns:\n",
    "        \"C\" if the actors are connected via an alias chain.\n",
    "        \"P\" if the actors are connected via a related group chain.\n",
    "        \"I\" if no connection is found.\n",
    "    \"\"\"\n",
    "\n",
    "    actor1 = actor1.strip().lower()\n",
    "    actor2 = actor2.strip().lower()\n",
    "\n",
    "    # Normalize dictionaries and ensure bidirectional alias relationships\n",
    "    alias_dict = {k.strip().lower(): [v.strip().lower() for v in val] for k, val in alias_dict.items()}\n",
    "    for actor in list(alias_dict): # Iterate over a copy of the keys\n",
    "        aliases = alias_dict[actor]\n",
    "        for alias in aliases:\n",
    "            if actor not in alias_dict.setdefault(alias, []):  # Avoid duplicates\n",
    "                alias_dict[alias].append(actor)\n",
    "\n",
    "    related_dict = {k.strip().lower(): [v.strip().lower() for v in val] for k, val in related_dict.items()}\n",
    "    for actor in list(related_dict):  # Iterate over a copy of the keys\n",
    "        related_groups = related_dict[actor]\n",
    "        for related_actor in related_groups:\n",
    "            if actor not in related_dict.setdefault(related_actor, []):\n",
    "                related_dict[related_actor].append(actor)\n",
    "\n",
    "    if is_alias_connected(actor1, actor2, alias_dict):\n",
    "        return \"C\"\n",
    "\n",
    "    if is_related_connected(actor1, actor2, alias_dict, related_dict):\n",
    "        return \"P\"\n",
    "\n",
    "    return \"I\"\n",
    "\n",
    "\n",
    "def is_alias_connected(actor1, actor2, alias_dict):\n",
    "    \"\"\"\n",
    "    Checks if two actors are connected through an alias chain using Breadth First Search (BFS).\n",
    "    \"\"\"\n",
    "    visited = set()\n",
    "    queue = [actor1]\n",
    "\n",
    "    while queue:\n",
    "        current_actor = queue.pop(0)\n",
    "        visited.add(current_actor)\n",
    "\n",
    "        for alias in alias_dict.get(current_actor, []):\n",
    "            if alias == actor2:\n",
    "                return True\n",
    "            if alias not in visited:\n",
    "                queue.append(alias)\n",
    "\n",
    "    return False\n",
    "\n",
    "\n",
    "def is_related_connected(actor1, actor2, alias_dict, related_dict) :\n",
    "    \"\"\"\n",
    "    Checks if two actors are connected through a chain of aliases and related groups using BFS.\n",
    "    \"\"\"\n",
    "    visited = set()\n",
    "    queue = [actor1]\n",
    "\n",
    "    while queue:\n",
    "        current_actor = queue.pop(0)\n",
    "        visited.add(current_actor)\n",
    "\n",
    "        for alias in alias_dict.get(current_actor, []):\n",
    "            if alias == actor2:\n",
    "                return True\n",
    "            if alias not in visited:\n",
    "                queue.append(alias)\n",
    "\n",
    "        for related_actor in related_dict.get(current_actor, []):\n",
    "            if related_actor == actor2:\n",
    "                return True\n",
    "            if related_actor not in visited:\n",
    "                queue.append(related_actor)\n",
    "\n",
    "    return False"
   ]
  },
  {
   "cell_type": "code",
   "execution_count": null,
   "id": "367653f4-175d-4dae-b6d3-21feed5b5af8",
   "metadata": {},
   "outputs": [],
   "source": [
    "def compute_taa_accuracy(fname, col):\n",
    "    \"\"\"\n",
    "    Returns Correct & Plausible Accuracy\n",
    "    \"\"\"\n",
    "    df = pd.read_csv(fname, sep='\\t')\n",
    "    correct = 0\n",
    "    plausible = 0\n",
    "    total = 0\n",
    "    \n",
    "    for idx, row in df.iterrows():\n",
    "        pred = row[col].lower().strip()\n",
    "        gt = row['GT'].lower().strip()\n",
    "        \n",
    "        res = threat_actor_connection(gt, pred, alias_dict, related_dict)\n",
    "\n",
    "        if res == 'C':\n",
    "            correct += 1\n",
    "        elif res == 'P':\n",
    "            plausible += 1\n",
    "        total += 1\n",
    "\n",
    "    return correct/total*100, (correct+plausible)/total*100"
   ]
  },
  {
   "cell_type": "code",
   "execution_count": null,
   "id": "7627fbc7-a657-4a31-9faa-6eaca901bb82",
   "metadata": {},
   "outputs": [],
   "source": [
    "print('Correct & Plausible Accuracy:', compute_taa_accuracy('responses/cti-taa-responses.tsv', model_name))"
   ]
  },
  {
   "cell_type": "code",
   "execution_count": null,
   "id": "d1e76fa2-9cb6-44b1-a913-797432ac0958",
   "metadata": {},
   "outputs": [],
   "source": []
  }
 ],
 "metadata": {
  "kernelspec": {
   "display_name": "cti-bench",
   "language": "python",
   "name": "python3"
  },
  "language_info": {
   "codemirror_mode": {
    "name": "ipython",
    "version": 3
   },
   "file_extension": ".py",
   "mimetype": "text/x-python",
   "name": "python",
   "nbconvert_exporter": "python",
   "pygments_lexer": "ipython3",
   "version": "3.12.9"
  }
 },
 "nbformat": 4,
 "nbformat_minor": 5
}
