{
 "cells": [
  {
   "cell_type": "code",
   "execution_count": null,
   "id": "5e16a34a",
   "metadata": {},
   "outputs": [],
   "source": [
    "import pandas as pd\n",
    "from openai import OpenAI\n",
    "import os\n",
    "from dotenv import find_dotenv, load_dotenv"
   ]
  },
  {
   "cell_type": "code",
   "execution_count": null,
   "id": "e4364bd3",
   "metadata": {},
   "outputs": [],
   "source": [
    "find_dotenv()\n",
    "load_dotenv()\n",
    "\n",
    "oai_key = os.getenv(\"OPENAI_API_KEY\")\n",
    "openai_client = OpenAI(api_key=oai_key)"
   ]
  },
  {
   "cell_type": "code",
   "execution_count": null,
   "id": "c7187bc8",
   "metadata": {},
   "outputs": [],
   "source": [
    "tsv_path = 'cti-taa-responses.tsv'\n",
    "model = 'gpt-4.1'\n",
    "column_name = 'gpt4o-mini'"
   ]
  },
  {
   "cell_type": "code",
   "execution_count": null,
   "id": "9ca7b976",
   "metadata": {},
   "outputs": [],
   "source": [
    "df = pd.read_csv(tsv_path, sep='\\t')  # First row is header\n",
    "if column_name not in df.columns:\n",
    "    raise ValueError(f\"Column '{model}' not found in file.\")\n",
    "\n",
    "texts = df[column_name].dropna().tolist()\n",
    "\n",
    "threat_actors = []\n",
    "prompt = (\n",
    "    \"Extract the threat actor from the following summary. Only return the APT identifier if present, else return the actor name. \"\n",
    "    \"Return only the actor name(s), or 'X' if not applicable or the attribution is unclear.\\n\\n\"\n",
    ")\n",
    "\n",
    "print(texts)\n"
   ]
  },
  {
   "cell_type": "code",
   "execution_count": null,
   "id": "27373ff7",
   "metadata": {},
   "outputs": [],
   "source": [
    "\n",
    "for text in texts:\n",
    "    response = openai_client.chat.completions.create(\n",
    "        model=model,\n",
    "        messages=[{\"role\": \"system\", \"content\": prompt}, {\"role\": \"user\", \"content\": text}],\n",
    "        temperature=0,\n",
    "    )\n",
    "    actor = response.choices[0].message.content.strip()\n",
    "    threat_actors.append(actor)\n"
   ]
  },
  {
   "cell_type": "code",
   "execution_count": null,
   "id": "d1935427",
   "metadata": {},
   "outputs": [],
   "source": [
    "threat_actors"
   ]
  },
  {
   "cell_type": "code",
   "execution_count": null,
   "id": "dd378c01",
   "metadata": {},
   "outputs": [],
   "source": [
    "if len(df[column_name]) == len(threat_actors):\n",
    "    df[column_name] = threat_actors\n",
    "else:\n",
    "    raise ValueError(\"Length of threat actors list does not match the original column length.\")"
   ]
  },
  {
   "cell_type": "code",
   "execution_count": null,
   "id": "fceee412",
   "metadata": {},
   "outputs": [],
   "source": [
    "df.to_csv(tsv_path, sep='\\t', index=False)"
   ]
  }
 ],
 "metadata": {
  "kernelspec": {
   "display_name": "cti-bench",
   "language": "python",
   "name": "python3"
  },
  "language_info": {
   "codemirror_mode": {
    "name": "ipython",
    "version": 3
   },
   "file_extension": ".py",
   "mimetype": "text/x-python",
   "name": "python",
   "nbconvert_exporter": "python",
   "pygments_lexer": "ipython3",
   "version": "3.12.9"
  }
 },
 "nbformat": 4,
 "nbformat_minor": 5
}
